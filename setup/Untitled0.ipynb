{
 "metadata": {
  "name": "",
  "signature": "sha256:f64c75b56a5c204eb834e59ad9baf8438d096d8dafc5065f12af5605fb2aefe0"
 },
 "nbformat": 3,
 "nbformat_minor": 0,
 "worksheets": []
}