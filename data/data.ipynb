{
 "metadata": {
  "name": "",
  "signature": "sha256:b10d07f316a1e7a6a66e818589378da313da78c618db84b5b074aa23bb59cc81"
 },
 "nbformat": 3,
 "nbformat_minor": 0,
 "worksheets": [
  {
   "cells": [
    {
     "cell_type": "markdown",
     "metadata": {},
     "source": [
      "#Data for playing around in SQL\n",
      "\n",
      "We have a few data files available for playing around.\n",
      "\n",
      "\n",
      "\n",
      "## The Data files\n",
      "\n",
      "* [BDC Knowledge Institutions.txt](BDC Knowledge Institutions.txt) - Contains a list of public and acadmic research libraries with some data about them. (From Felix Kabo)\n",
      "* [NIH Funding FY2013.txt](NIH Funding FY2013.txt) - Funding by organization for 2013 (From Felix Kabo)\n",
      "* [direct99.csv](direct99.csv) - List of companies and their directors\n",
      "* [Interlocks-1999.csv](Interlocks-1999.csv) - List of companies and directors with inter-connections\n",
      "\n",
      "### Useful lookup tables\n",
      "\n",
      "* [states.csv](states.csv) - a mapping between state names and abbriviations\n"
     ]
    }
   ],
   "metadata": {}
  }
 ]
}