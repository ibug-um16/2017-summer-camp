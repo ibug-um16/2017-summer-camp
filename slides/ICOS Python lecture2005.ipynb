{
 "metadata": {
  "name": "",
  "signature": "sha256:886dc0192d35b89276060699b1a05b8e8944fcc91de0649c6e8d58205e58c449"
 },
 "nbformat": 3,
 "nbformat_minor": 0,
 "worksheets": [
  {
   "cells": [
    {
     "cell_type": "heading",
     "level": 1,
     "metadata": {},
     "source": [
      "    Intro to Python"
     ]
    },
    {
     "cell_type": "markdown",
     "metadata": {},
     "source": [
      "In almost all cases, programming is about three things:\n",
      "1) Saving data as variables.\n",
      "2) Manipulating and comparing data (usually using fuctions).\n",
      "3) Looping"
     ]
    },
    {
     "cell_type": "heading",
     "level": 2,
     "metadata": {},
     "source": [
      "Variables"
     ]
    },
    {
     "cell_type": "markdown",
     "metadata": {},
     "source": [
      "Variables are a way of saving information. The computer keeps a store of data and instead of having to remember some crazy binary address to retrieve, you just have to remember an English-like name such as age, firstName, last_name, or gpa.  In Python you can use variables very easily (no declarations and no types)\n",
      "The different types of information that you can save include: \n",
      "    numbers (ints, floating point, complex)\n",
      "    characters, \n",
      "    strings, \n",
      "    collections (arrays, lists, and dictionaries)\n"
     ]
    },
    {
     "cell_type": "code",
     "collapsed": true,
     "input": [
      "message = \"Colleen\"\n",
      "print message\n",
      "age = 5\n",
      "print age\n",
      "age = \"Don't ask a lady her age\"\n",
      "print age;"
     ],
     "language": "python",
     "metadata": {},
     "outputs": [
      {
       "output_type": "stream",
       "stream": "stdout",
       "text": [
        "Colleen\n",
        "5\n",
        "Don't ask a lady her age\n"
       ]
      }
     ],
     "prompt_number": 1
    },
    {
     "cell_type": "markdown",
     "metadata": {},
     "source": [
      "Just assigning values and then printing them is boring.   Same with big data, sometimes you will want to manipuate your data. You can do simple operations like add, subtract, multipy, divide, and concatenate very easily.  \n",
      "age = 35\n",
      "print age\n",
      "print age + 2          //**IF** the value stored in the variable \"age\" is a number, print the value + 2 (String would concatenate)\n",
      "print age / 5          //**IF** the value stored in age is a number, divide it by 5\n",
      "print age / 6          //**IF** the value stored in age is a number, divide it by 6\n",
      "print age % 6          //**IF** the value stored in age is a number find the remainder when divided by 6\n",
      "\n",
      "\n",
      "The computer will let you add numbers, but not numbers and strings."
     ]
    },
    {
     "cell_type": "code",
     "collapsed": true,
     "input": [
      "age = int(\"35\")\n",
      "print age\n",
      "print age + 2 \n",
      "print age\n",
      "print age / 5\n",
      "print age / 4\n",
      "print age % 4\n",
      "print age\n",
      "\n",
      "#name = \"Colleen\"\n",
      "#print name+2"
     ],
     "language": "python",
     "metadata": {},
     "outputs": [
      {
       "output_type": "stream",
       "stream": "stdout",
       "text": [
        "35\n",
        "37\n",
        "35\n",
        "7\n",
        "8\n",
        "3\n",
        "35\n"
       ]
      }
     ],
     "prompt_number": 10
    },
    {
     "cell_type": "heading",
     "level": 2,
     "metadata": {},
     "source": [
      "Strings"
     ]
    },
    {
     "cell_type": "markdown",
     "metadata": {},
     "source": [
      "Strings are an extremely popular data type in Python.   This may be because computers often \"read\" numbers as strings. Python treats single quotes the same as double quotes, the main difference is that double quotes do allow you to enclose single quotes. You can use either convention, but the key is CONSISTENCY.\n",
      "\n",
      "There are also triple double quotes \"\"\"...\"\"\" They allow you to write strings that span multiple lines.\n",
      "\n",
      "There are many, many built-in functionalities that you will eventually learn.  It is impossible to cover (and remember) them all in one sitting."
     ]
    },
    {
     "cell_type": "heading",
     "level": 4,
     "metadata": {},
     "source": [
      "Accessing parts of String"
     ]
    },
    {
     "cell_type": "markdown",
     "metadata": {},
     "source": [
      "You can access an antire string variable, or just parts.  To access just parts you use square brackets to specify the index of the data you want.\n",
      " "
     ]
    },
    {
     "cell_type": "code",
     "collapsed": true,
     "input": [
      "  message = \"Hello Everyone\"\n",
      "  print message;\n",
      "  print \"The first letter in message is: \" , message[0]\n",
      "  print \"The 2nd through 9th letters are: \", \"message[1:35]\""
     ],
     "language": "python",
     "metadata": {},
     "outputs": [
      {
       "output_type": "stream",
       "stream": "stdout",
       "text": [
        "Hello Everyone\n",
        "The first letter in message is:  H\n",
        "The 2nd through 9th letters are:  message[1:35]\n"
       ]
      }
     ],
     "prompt_number": 18
    },
    {
     "cell_type": "heading",
     "level": 4,
     "metadata": {},
     "source": [
      "String operators"
     ]
    },
    {
     "cell_type": "markdown",
     "metadata": {},
     "source": [
      "String operators are special bits of code that ONLY WORK ON STRINGS.  For instance, we have already seen that \"+\" does addition on numbers, but will concatenation on Strings.\n",
      "    +\t     Concatenation - Adds values on either side of the operator\t \n",
      "    *\t     Repetition - Creates new strings, concatenating multiple copies of the same string\t a\n",
      "    []\t     Slice - Gives the character from the given index\t(A negative number starts from the end)\n",
      "    [ : ]\t Range Slice - Gives the characters from the given range\t \n",
      "    in\t     Membership - Returns true if a character exists in the given string\t\n",
      "    not in\t Membership - Returns true if a character does not exist in the given string\t"
     ]
    },
    {
     "cell_type": "code",
     "collapsed": true,
     "input": [
      "a = \"Hello\"\n",
      "b = \"Python\"\n",
      "print a + b\n",
      "print a * 5\n",
      "print \"h\" in a\n",
      "print \"H\" in a\n",
      "print \"z\" in a\n",
      "print \"H\" not in a\n",
      "print \"z\" not in a\n",
      "\n",
      "print b [-1]\n",
      "print b [-2]\n",
      "print b [-3]\n"
     ],
     "language": "python",
     "metadata": {},
     "outputs": [
      {
       "output_type": "stream",
       "stream": "stdout",
       "text": [
        "HelloPython\n",
        "HelloHelloHelloHelloHello\n",
        "False\n",
        "True\n",
        "False\n",
        "False\n",
        "True\n",
        "n\n",
        "o\n",
        "h\n"
       ]
      }
     ],
     "prompt_number": 22
    },
    {
     "cell_type": "heading",
     "level": 4,
     "metadata": {},
     "source": [
      "String methods"
     ]
    },
    {
     "cell_type": "markdown",
     "metadata": {},
     "source": [
      "The string operators return information about a string and they are a part of the Python language.  There is another set of tools called methods.  Methods are similar to operators in that they manipulate data, but they are used very differently.  \n",
      "\n",
      "Methods use the DOT NOTATION.  This means that you put the name of the variable, a dot (\".\"), the name of the method, and then parantheses.  For instance, since you don't always know if the person typed in a number or not, you can use the method isdigit() to find out.\n",
      "\n",
      "variable.isdigit()\n",
      "\n",
      "Sometimes you need to put parameters in the parantheses.  Parameters are extra pieces of information that are needed to figure out the desired answer.  For instance, one useful method is count, it returns the number of times a substring shows up in a variable.  If you want the count method to return something, you better tell it what you are looking for.\n",
      "a = \"Hello gorgeous\"\n",
      "print a.count('l')   #This is an \"el\" not a number 1.\n",
      "print a.count('o')\n",
      "print.count('z')\n",
      "\n"
     ]
    },
    {
     "cell_type": "code",
     "collapsed": true,
     "input": [
      "a = \"Hello there awesome super super awesome programmers\"\n",
      "print a.count('l')           #This is an \"el\" not a number 1.\n",
      "print a.count('o')\n",
      "print a.count('O')\n",
      "print a.count('super')\n"
     ],
     "language": "python",
     "metadata": {},
     "outputs": [
      {
       "output_type": "stream",
       "stream": "stdout",
       "text": [
        "2\n",
        "4\n",
        "0\n",
        "0\n",
        "2\n"
       ]
      }
     ],
     "prompt_number": 30
    },
    {
     "cell_type": "markdown",
     "metadata": {},
     "source": [
      "Some methods have optional parameters.  These are pieces of information you can give, but aren't necessary.  For instance, the count method can also take a start and end index."
     ]
    },
    {
     "cell_type": "code",
     "collapsed": true,
     "input": [
      "a = \"Hello there Sheila\"\n",
      "print a.count('l', 5)\n",
      "print a.count('l', 5, 10)\n",
      "print a.find('e')\n",
      "print a.find('z')\n",
      "print a.index('e')\n",
      "print a.index('z')\n"
     ],
     "language": "python",
     "metadata": {},
     "outputs": [
      {
       "output_type": "stream",
       "stream": "stdout",
       "text": [
        "1\n",
        "0\n",
        "1\n",
        "-1\n",
        "1\n"
       ]
      },
      {
       "ename": "ValueError",
       "evalue": "substring not found",
       "output_type": "pyerr",
       "traceback": [
        "\u001b[0;31m---------------------------------------------------------------------------\u001b[0m\n\u001b[0;31mValueError\u001b[0m                                Traceback (most recent call last)",
        "\u001b[0;32m<ipython-input-24-ad962e1912a3>\u001b[0m in \u001b[0;36m<module>\u001b[0;34m()\u001b[0m\n\u001b[1;32m      5\u001b[0m \u001b[0;32mprint\u001b[0m \u001b[0ma\u001b[0m\u001b[0;34m.\u001b[0m\u001b[0mfind\u001b[0m\u001b[0;34m(\u001b[0m\u001b[0;34m'z'\u001b[0m\u001b[0;34m)\u001b[0m\u001b[0;34m\u001b[0m\u001b[0m\n\u001b[1;32m      6\u001b[0m \u001b[0;32mprint\u001b[0m \u001b[0ma\u001b[0m\u001b[0;34m.\u001b[0m\u001b[0mindex\u001b[0m\u001b[0;34m(\u001b[0m\u001b[0;34m'e'\u001b[0m\u001b[0;34m)\u001b[0m\u001b[0;34m\u001b[0m\u001b[0m\n\u001b[0;32m----> 7\u001b[0;31m \u001b[0;32mprint\u001b[0m \u001b[0ma\u001b[0m\u001b[0;34m.\u001b[0m\u001b[0mindex\u001b[0m\u001b[0;34m(\u001b[0m\u001b[0;34m'z'\u001b[0m\u001b[0;34m)\u001b[0m\u001b[0;34m\u001b[0m\u001b[0m\n\u001b[0m",
        "\u001b[0;31mValueError\u001b[0m: substring not found"
       ]
      }
     ],
     "prompt_number": 24
    },
    {
     "cell_type": "markdown",
     "metadata": {},
     "source": [
      "Here are some additional String methods:\n",
      "find(),  rfind(), index(), isalnum(), isalpha(), isdigit(), len(), strip, lstrip(), rstrip(), split()"
     ]
    },
    {
     "cell_type": "code",
     "collapsed": true,
     "input": [
      "str1 = \"Value 1, Value 2, Value 3, Value 4\";\n",
      "print str1.split( );\n",
      "print str1.split(',');"
     ],
     "language": "python",
     "metadata": {},
     "outputs": [
      {
       "output_type": "stream",
       "stream": "stdout",
       "text": [
        "['Value', '1,', 'Value', '2,', 'Value', '3,', 'Value', '4']\n",
        "['Value 1', ' Value 2', ' Value 3', ' Value 4']\n"
       ]
      }
     ],
     "prompt_number": 31
    },
    {
     "cell_type": "heading",
     "level": 2,
     "metadata": {},
     "source": [
      "Lists"
     ]
    },
    {
     "cell_type": "markdown",
     "metadata": {},
     "source": [
      "The value returned by split is a LIST.  The list is THE most versatile datatype available in Python.  It is a sequence of comma-separated values encased by square brackets. Items in a list do not have to be of the same type.\n"
     ]
    },
    {
     "cell_type": "code",
     "collapsed": true,
     "input": [
      "me = [\"Colleen\", \"van Lent\", 40, 'F']\n",
      "you = [\"Bob\", \"McCarthy\", 50, 'M']\n",
      "print me[0]\n",
      "print me[1]\n",
      "print me[2]\n",
      "print me[3]\n",
      "\n",
      "print you\n",
      "print me + you\n"
     ],
     "language": "python",
     "metadata": {},
     "outputs": [
      {
       "output_type": "stream",
       "stream": "stdout",
       "text": [
        "Colleen\n",
        "van Lent\n",
        "40\n",
        "F\n",
        "['Bob', 'McCarthy', 50, 'M']\n",
        "['Colleen', 'van Lent', 40, 'F', 'Bob', 'McCarthy', 50, 'M']\n"
       ]
      }
     ],
     "prompt_number": 33
    },
    {
     "cell_type": "code",
     "collapsed": true,
     "input": [
      "for info in me:\n",
      "    print info\n",
      "    "
     ],
     "language": "python",
     "metadata": {},
     "outputs": [
      {
       "output_type": "stream",
       "stream": "stdout",
       "text": [
        "Colleen\n",
        "van Lent\n",
        "40\n",
        "F\n"
       ]
      }
     ],
     "prompt_number": 36
    },
    {
     "cell_type": "code",
     "collapsed": true,
     "input": [
      "me = [\"Colleen\", \"van Lent\", 40, 'F']\n",
      "you = [\"Bob\", \"McCarthy\", 50, 'M']\n",
      "people = [you, me]\n",
      "print people\n"
     ],
     "language": "python",
     "metadata": {},
     "outputs": [
      {
       "output_type": "stream",
       "stream": "stdout",
       "text": [
        "[['Bob', 'McCarthy', 50, 'M'], ['Colleen', 'van Lent', 40, 'F']]\n"
       ]
      }
     ],
     "prompt_number": 37
    },
    {
     "cell_type": "heading",
     "level": 4,
     "metadata": {},
     "source": [
      "Built-in List Functions and Methods"
     ]
    },
    {
     "cell_type": "markdown",
     "metadata": {},
     "source": [
      "Lists have a number of functions and methods associated with them\n",
      "Some of the functions are:\n",
      "cmp(list1, list2)         #Compare two lists\n",
      "len(list)                 #Return the length of a list\n",
      "max(list)                 #Return the \"largest\" element\n",
      "min(list)                 #Return the \"smallest\" element\n",
      "list(seq)                 #Take the seq, and turn it into a list\n",
      "\n",
      "Some of the methods are: \n",
      "count(), \n",
      "index(obj)\n",
      "\n",
      "Some list methods are in-place.  \n",
      "This  means that the lists are changed, but the methods don't \"return\" anything.  These include sort(), reverse(), insert(), append(), and remove.\n"
     ]
    },
    {
     "cell_type": "code",
     "collapsed": true,
     "input": [
      "me = [\"Colleen\", \"van Lent\", 40, 'F']\n",
      "you = [\"Bob\", \"McCarthy\", 50, 'M']\n",
      "her = [\"Sally\", \"James\", 25, 'Unknown']\n",
      "him = [\"John\", \"Doe\", 18, 'M']\n",
      "people = [me, you, her, him]\n",
      "print people\n",
      "\n",
      "print \"\\nList Functions \\n\"\n",
      "print cmp(me, you)\n",
      "print len(people)\n",
      "print max(people)\n",
      "print min(people)\n",
      "\n",
      "\n",
      "\n",
      "print \"\\nList Methods\\n\"\n",
      "print people.count('Colleen')\n",
      "print people.count(me)\n",
      "\n",
      "people.sort() \n",
      "print people\n",
      "\n",
      "people.reverse()\n",
      "print people\n",
      "\n",
      "people.append(['Becca', 'van Lent', 5, 'F'])\n",
      "print people\n",
      "\n",
      "people.insert(2, ['Chris', 'van Lent', 7, 'M'])\n",
      "print people"
     ],
     "language": "python",
     "metadata": {},
     "outputs": []
    },
    {
     "cell_type": "heading",
     "level": 2,
     "metadata": {},
     "source": [
      "Now what?\n"
     ]
    },
    {
     "cell_type": "markdown",
     "metadata": {},
     "source": [
      "Lets do a little input using the raw_input() function."
     ]
    },
    {
     "cell_type": "code",
     "collapsed": true,
     "input": [
      "message = raw_input(\"Enter your input: \")\n",
      "\n",
      "print message\n",
      "print message.find(\"Colleen\")\n",
      "print message.count(\"l\")\n",
      "print message.index(\" \")\n",
      "print message.rfind(\" \")"
     ],
     "language": "python",
     "metadata": {},
     "outputs": [
      {
       "name": "stdout",
       "output_type": "stream",
       "stream": "stdout",
       "text": [
        "Enter your input: Colleen is here is here is here\n"
       ]
      },
      {
       "output_type": "stream",
       "stream": "stdout",
       "text": [
        "Colleen is here is here is here\n",
        "0\n",
        "2\n",
        "7\n",
        "26\n"
       ]
      }
     ],
     "prompt_number": 14
    },
    {
     "cell_type": "heading",
     "level": 2,
     "metadata": {},
     "source": [
      "Flow of Control"
     ]
    },
    {
     "cell_type": "markdown",
     "metadata": {},
     "source": [
      "The real power of computing is selection and repetition.  Selection is when you use comparison operators to direct which path the program should take.  Repetition is when code is executed multiple times.\n"
     ]
    },
    {
     "cell_type": "code",
     "collapsed": true,
     "input": [
      "num_cookies = 5\n",
      "while num_cookies > 0:\n",
      "  print \"Yum!!\"\n",
      "  num_cookies -=1\n",
      "  print \"Only \" + str(num_cookies) + \" left\"\n",
      "print \"I am full now.\"\n"
     ],
     "language": "python",
     "metadata": {},
     "outputs": [
      {
       "output_type": "stream",
       "stream": "stdout",
       "text": [
        "Yum!!\n",
        "Only 4 left\n",
        "Yum!!\n",
        "Only 3 left\n",
        "Yum!!\n",
        "Only 2 left\n",
        "Yum!!\n",
        "Only 1 left\n",
        "Yum!!\n",
        "Only 0 left\n",
        "I am full now.\n"
       ]
      }
     ],
     "prompt_number": 1
    },
    {
     "cell_type": "markdown",
     "metadata": {},
     "source": [
      "The indentation is VERY, VERY important.  You must be consistent, do don't use tabs.  The other thing you need to be VERY worried about is the possibility of infinite loops.  Go back up and change the code to num_cookies = 0 or add one instead of subtracting one."
     ]
    },
    {
     "cell_type": "code",
     "collapsed": true,
     "input": [
      "\n",
      "age = 25\n",
      "if age < 18:\n",
      "  print \"Minor\"\n",
      "elif age > 100:\n",
      "  print \"Centenarian\"\n",
      "elif age > 65:\n",
      "  print \"Senior\"\n",
      "else:\n",
      "  print \"Adult\"\n",
      "  \n",
      "\n",
      "\n"
     ],
     "language": "python",
     "metadata": {},
     "outputs": [
      {
       "name": "stdout",
       "output_type": "stream",
       "stream": "stdout",
       "text": [
        "Enter your age: 56\n"
       ]
      },
      {
       "output_type": "stream",
       "stream": "stdout",
       "text": [
        "Adult\n"
       ]
      }
     ],
     "prompt_number": 6
    },
    {
     "cell_type": "code",
     "collapsed": true,
     "input": [
      "\n",
      "num = 0\n",
      "while num <=10:\n",
      "   if num % 2 == 0:\n",
      "     print num\n",
      "   num +=1"
     ],
     "language": "python",
     "metadata": {},
     "outputs": [
      {
       "output_type": "stream",
       "stream": "stdout",
       "text": [
        "0\n",
        "2\n",
        "4\n",
        "6\n",
        "8\n",
        "10\n"
       ]
      }
     ],
     "prompt_number": 8
    },
    {
     "cell_type": "heading",
     "level": 2,
     "metadata": {},
     "source": [
      "Loops and list"
     ]
    },
    {
     "cell_type": "code",
     "collapsed": true,
     "input": [
      "me = [\"Colleen\", \"van Lent\", 40, 'F']\n",
      "you = [\"Bob\", \"McCarthy\", 50, 'M']\n",
      "her = [\"Sally\", \"James\", 25, 'Unknown']\n",
      "him = [\"John\", \"Doe\", 18, 'M']\n",
      "people = [me, you, her, him]\n",
      "for  i in range(len(people)):\n",
      "  print i, people[i]\n"
     ],
     "language": "python",
     "metadata": {},
     "outputs": [
      {
       "output_type": "stream",
       "stream": "stdout",
       "text": [
        "0 ['Colleen', 'van Lent', 40, 'F']\n",
        "1 ['Bob', 'McCarthy', 50, 'M']\n",
        "2 ['Sally', 'James', 25, 'Unknown']\n",
        "3 ['John', 'Doe', 18, 'M']\n"
       ]
      }
     ],
     "prompt_number": 11
    },
    {
     "cell_type": "markdown",
     "metadata": {},
     "source": [
      "There is a shortcut you can use when you wan to loop through lists.."
     ]
    },
    {
     "cell_type": "code",
     "collapsed": true,
     "input": [
      "me = [\"Colleen\", \"van Lent\", 40, 'F']\n",
      "you = [\"Bob\", \"McCarthy\", 50, 'M']\n",
      "her = [\"Sally\", \"James\", 25, 'Unknown']\n",
      "him = [\"John\", \"Doe\", 18, 'M']\n",
      "people = [me, you, her, him]\n",
      "\n",
      "for person in people:\n",
      "   print person"
     ],
     "language": "python",
     "metadata": {},
     "outputs": [
      {
       "output_type": "stream",
       "stream": "stdout",
       "text": [
        "['Colleen', 'van Lent', 40, 'F']\n",
        "['Bob', 'McCarthy', 50, 'M']\n",
        "['Sally', 'James', 25, 'Unknown']\n",
        "['John', 'Doe', 18, 'M']\n"
       ]
      }
     ],
     "prompt_number": 10
    },
    {
     "cell_type": "markdown",
     "metadata": {},
     "source": [
      "Functions"
     ]
    },
    {
     "cell_type": "markdown",
     "metadata": {},
     "source": [
      "We have already used functions in this tutorial.  A function is a block of reusable code that is used to perform a single (albeit possibly complex). Functions allow for code reuse and also allow you to work better as a team.  The process of defining a function is as follows:\n",
      "\n",
      "\n",
      "1) Function blocks begin with the keyword def followed by the function name, parentheses ( ), and colon\n",
      "  \n",
      "  def myFunction():\n",
      "  \n",
      "  \n",
      "2) Any input parameters or arguments should be placed within these parentheses. \n",
      "  \n",
      "  def printMeALot(msg, times):\n",
      "  \n",
      "3) The code block within every function is indented.\n",
      "  \n",
      "  def printMeALot(msg, times):\n",
      "      for i in range(times):\n",
      "           print msg\n",
      "       \n",
      "\n",
      "4) Any return statements will cause an exit from the a function\n",
      "\n",
      "5) A return statement can pass an expression back to the caller. A return statement with no arguments is the same as return None."
     ]
    },
    {
     "cell_type": "code",
     "collapsed": true,
     "input": [
      "def printMeALot(msg, times):\n",
      "       for i in range(times):\n",
      "          print msg\n",
      "            \n",
      "printMeALot(\"I am the greatest\", 10)\n"
     ],
     "language": "python",
     "metadata": {},
     "outputs": [
      {
       "output_type": "stream",
       "stream": "stdout",
       "text": [
        "I am the greatest\n",
        "I am the greatest\n",
        "I am the greatest\n",
        "I am the greatest\n",
        "I am the greatest\n",
        "I am the greatest\n",
        "I am the greatest\n",
        "I am the greatest\n",
        "I am the greatest\n",
        "I am the greatest\n"
       ]
      }
     ],
     "prompt_number": 13
    },
    {
     "cell_type": "markdown",
     "metadata": {},
     "source": [
      "In the example above we wrote a function, called a built-in function (range), and called our own function.  We also called the print function.  In the latest versions of Python, print has been changed to a function again."
     ]
    },
    {
     "cell_type": "heading",
     "level": 1,
     "metadata": {},
     "source": [
      "Turtle Programming"
     ]
    },
    {
     "cell_type": "heading",
     "level": 2,
     "metadata": {},
     "source": [
      "If you haven't already, it is time to crash your code.  I am going to introduce something new that doesn't work particularly well in iPython Notebook.  The key to know is that the square icon above will stop the program from running.  (Also useful to know in the case of infinite loops.)\n",
      "\n",
      "\n",
      "The Turtle program is simple to use and is meant to help beginner programs with a visual representation of a \"turtle\" moving around the screen.  Once you run this program, you need to use an IDE or just a text editor to write you own program.  I would like you to write three functions, each of which will display one initial in your name.  Then, call all three functions in succession.\n",
      "\n",
      "To use the Turtle program you will need to import it from the libraries.  \n",
      "\n"
     ]
    },
    {
     "cell_type": "code",
     "collapsed": true,
     "input": [
      "import turtle\n",
      "import random\n",
      "\n",
      "turtle.penup()\n",
      "turtle.goto(-25, 200)\n",
      "\n",
      "turtle.fillcolor(\"yellow\")\n",
      "turtle.begin_fill()\n",
      "turtle.circle(50)\n",
      "turtle.end_fill()\n",
      "\n",
      "for x in range(10):\n",
      "    # choose a random spot\n",
      "    xpos = random.randint(-200,200)\n",
      "    ypos = random.randint(-200,200)\n",
      "\n",
      "    # goto this spot\n",
      "    turtle.penup()\n",
      "    turtle.goto(xpos, ypos)\n",
      "    turtle.pendown()\n",
      "\n",
      "    # generate a random color\n",
      "    red = random.random() # returns a number between 0 and 1\n",
      "    green = random.random()\n",
      "    blue = random.random()\n",
      "    \n",
      "    turtle.pencolor(red,green, blue)\n",
      "    \n",
      "    turtle.forward(50)\n",
      "    turtle.left(90)\n",
      "    turtle.forward(50)\n",
      "    turtle.left(90)\n",
      "    turtle.forward(50)\n",
      "    turtle.left(90)\n",
      "    turtle.forward(50)\n",
      "   \n",
      "\n",
      "raw_input(\"press enter to exit \")\n"
     ],
     "language": "python",
     "metadata": {},
     "outputs": [
      {
       "ename": "TclError",
       "evalue": "invalid command name \".4401343808\"",
       "output_type": "pyerr",
       "traceback": [
        "\u001b[0;31m---------------------------------------------------------------------------\u001b[0m\n\u001b[0;31mTclError\u001b[0m                                  Traceback (most recent call last)",
        "\u001b[0;32m<ipython-input-45-8c23c71c75e3>\u001b[0m in \u001b[0;36m<module>\u001b[0;34m()\u001b[0m\n\u001b[1;32m     28\u001b[0m \u001b[0;34m\u001b[0m\u001b[0m\n\u001b[1;32m     29\u001b[0m     \u001b[0mturtle\u001b[0m\u001b[0;34m.\u001b[0m\u001b[0mforward\u001b[0m\u001b[0;34m(\u001b[0m\u001b[0;36m50\u001b[0m\u001b[0;34m)\u001b[0m\u001b[0;34m\u001b[0m\u001b[0m\n\u001b[0;32m---> 30\u001b[0;31m     \u001b[0mturtle\u001b[0m\u001b[0;34m.\u001b[0m\u001b[0mleft\u001b[0m\u001b[0;34m(\u001b[0m\u001b[0;36m90\u001b[0m\u001b[0;34m)\u001b[0m\u001b[0;34m\u001b[0m\u001b[0m\n\u001b[0m\u001b[1;32m     31\u001b[0m     \u001b[0mturtle\u001b[0m\u001b[0;34m.\u001b[0m\u001b[0mforward\u001b[0m\u001b[0;34m(\u001b[0m\u001b[0;36m50\u001b[0m\u001b[0;34m)\u001b[0m\u001b[0;34m\u001b[0m\u001b[0m\n\u001b[1;32m     32\u001b[0m     \u001b[0mturtle\u001b[0m\u001b[0;34m.\u001b[0m\u001b[0mleft\u001b[0m\u001b[0;34m(\u001b[0m\u001b[0;36m90\u001b[0m\u001b[0;34m)\u001b[0m\u001b[0;34m\u001b[0m\u001b[0m\n",
        "\u001b[0;32m//anaconda/python.app/Contents/lib/python2.7/lib-tk/turtle.pyc\u001b[0m in \u001b[0;36mleft\u001b[0;34m(angle)\u001b[0m\n",
        "\u001b[0;32m//anaconda/python.app/Contents/lib/python2.7/lib-tk/turtle.pyc\u001b[0m in \u001b[0;36mleft\u001b[0;34m(self, angle)\u001b[0m\n\u001b[1;32m   1612\u001b[0m         \u001b[0;36m67.0\u001b[0m\u001b[0;34m\u001b[0m\u001b[0m\n\u001b[1;32m   1613\u001b[0m         \"\"\"\n\u001b[0;32m-> 1614\u001b[0;31m         \u001b[0mself\u001b[0m\u001b[0;34m.\u001b[0m\u001b[0m_rotate\u001b[0m\u001b[0;34m(\u001b[0m\u001b[0mangle\u001b[0m\u001b[0;34m)\u001b[0m\u001b[0;34m\u001b[0m\u001b[0m\n\u001b[0m\u001b[1;32m   1615\u001b[0m \u001b[0;34m\u001b[0m\u001b[0m\n\u001b[1;32m   1616\u001b[0m     \u001b[0;32mdef\u001b[0m \u001b[0mpos\u001b[0m\u001b[0;34m(\u001b[0m\u001b[0mself\u001b[0m\u001b[0;34m)\u001b[0m\u001b[0;34m:\u001b[0m\u001b[0;34m\u001b[0m\u001b[0m\n",
        "\u001b[0;32m//anaconda/python.app/Contents/lib/python2.7/lib-tk/turtle.pyc\u001b[0m in \u001b[0;36m_rotate\u001b[0;34m(self, angle)\u001b[0m\n\u001b[1;32m   3106\u001b[0m             \u001b[0;32mfor\u001b[0m \u001b[0m_\u001b[0m \u001b[0;32min\u001b[0m \u001b[0mrange\u001b[0m\u001b[0;34m(\u001b[0m\u001b[0msteps\u001b[0m\u001b[0;34m)\u001b[0m\u001b[0;34m:\u001b[0m\u001b[0;34m\u001b[0m\u001b[0m\n\u001b[1;32m   3107\u001b[0m                 \u001b[0mself\u001b[0m\u001b[0;34m.\u001b[0m\u001b[0m_orient\u001b[0m \u001b[0;34m=\u001b[0m \u001b[0mself\u001b[0m\u001b[0;34m.\u001b[0m\u001b[0m_orient\u001b[0m\u001b[0;34m.\u001b[0m\u001b[0mrotate\u001b[0m\u001b[0;34m(\u001b[0m\u001b[0mdelta\u001b[0m\u001b[0;34m)\u001b[0m\u001b[0;34m\u001b[0m\u001b[0m\n\u001b[0;32m-> 3108\u001b[0;31m                 \u001b[0mself\u001b[0m\u001b[0;34m.\u001b[0m\u001b[0m_update\u001b[0m\u001b[0;34m(\u001b[0m\u001b[0;34m)\u001b[0m\u001b[0;34m\u001b[0m\u001b[0m\n\u001b[0m\u001b[1;32m   3109\u001b[0m         \u001b[0mself\u001b[0m\u001b[0;34m.\u001b[0m\u001b[0m_orient\u001b[0m \u001b[0;34m=\u001b[0m \u001b[0mneworient\u001b[0m\u001b[0;34m\u001b[0m\u001b[0m\n\u001b[1;32m   3110\u001b[0m         \u001b[0mself\u001b[0m\u001b[0;34m.\u001b[0m\u001b[0m_update\u001b[0m\u001b[0;34m(\u001b[0m\u001b[0;34m)\u001b[0m\u001b[0;34m\u001b[0m\u001b[0m\n",
        "\u001b[0;32m//anaconda/python.app/Contents/lib/python2.7/lib-tk/turtle.pyc\u001b[0m in \u001b[0;36m_update\u001b[0;34m(self)\u001b[0m\n\u001b[1;32m   2562\u001b[0m             \u001b[0;32mreturn\u001b[0m\u001b[0;34m\u001b[0m\u001b[0m\n\u001b[1;32m   2563\u001b[0m         \u001b[0;32melif\u001b[0m \u001b[0mscreen\u001b[0m\u001b[0;34m.\u001b[0m\u001b[0m_tracing\u001b[0m \u001b[0;34m==\u001b[0m \u001b[0;36m1\u001b[0m\u001b[0;34m:\u001b[0m\u001b[0;34m\u001b[0m\u001b[0m\n\u001b[0;32m-> 2564\u001b[0;31m             \u001b[0mself\u001b[0m\u001b[0;34m.\u001b[0m\u001b[0m_update_data\u001b[0m\u001b[0;34m(\u001b[0m\u001b[0;34m)\u001b[0m\u001b[0;34m\u001b[0m\u001b[0m\n\u001b[0m\u001b[1;32m   2565\u001b[0m             \u001b[0mself\u001b[0m\u001b[0;34m.\u001b[0m\u001b[0m_drawturtle\u001b[0m\u001b[0;34m(\u001b[0m\u001b[0;34m)\u001b[0m\u001b[0;34m\u001b[0m\u001b[0m\n\u001b[1;32m   2566\u001b[0m             \u001b[0mscreen\u001b[0m\u001b[0;34m.\u001b[0m\u001b[0m_update\u001b[0m\u001b[0;34m(\u001b[0m\u001b[0;34m)\u001b[0m                  \u001b[0;31m# TurtleScreenBase\u001b[0m\u001b[0;34m\u001b[0m\u001b[0m\n",
        "\u001b[0;32m//anaconda/python.app/Contents/lib/python2.7/lib-tk/turtle.pyc\u001b[0m in \u001b[0;36m_update_data\u001b[0;34m(self)\u001b[0m\n\u001b[1;32m   2553\u001b[0m         \u001b[0;32mif\u001b[0m \u001b[0mlen\u001b[0m\u001b[0;34m(\u001b[0m\u001b[0mself\u001b[0m\u001b[0;34m.\u001b[0m\u001b[0mcurrentLine\u001b[0m\u001b[0;34m)\u001b[0m\u001b[0;34m>\u001b[0m\u001b[0;36m1\u001b[0m\u001b[0;34m:\u001b[0m\u001b[0;34m\u001b[0m\u001b[0m\n\u001b[1;32m   2554\u001b[0m             self.screen._drawline(self.currentLineItem, self.currentLine,\n\u001b[0;32m-> 2555\u001b[0;31m                                   self._pencolor, self._pensize)\n\u001b[0m\u001b[1;32m   2556\u001b[0m \u001b[0;34m\u001b[0m\u001b[0m\n\u001b[1;32m   2557\u001b[0m     \u001b[0;32mdef\u001b[0m \u001b[0m_update\u001b[0m\u001b[0;34m(\u001b[0m\u001b[0mself\u001b[0m\u001b[0;34m)\u001b[0m\u001b[0;34m:\u001b[0m\u001b[0;34m\u001b[0m\u001b[0m\n",
        "\u001b[0;32m//anaconda/python.app/Contents/lib/python2.7/lib-tk/turtle.pyc\u001b[0m in \u001b[0;36m_drawline\u001b[0;34m(self, lineitem, coordlist, fill, width, top)\u001b[0m\n\u001b[1;32m    567\u001b[0m                 \u001b[0mcl\u001b[0m\u001b[0;34m.\u001b[0m\u001b[0mappend\u001b[0m\u001b[0;34m(\u001b[0m\u001b[0mx\u001b[0m \u001b[0;34m*\u001b[0m \u001b[0mself\u001b[0m\u001b[0;34m.\u001b[0m\u001b[0mxscale\u001b[0m\u001b[0;34m)\u001b[0m\u001b[0;34m\u001b[0m\u001b[0m\n\u001b[1;32m    568\u001b[0m                 \u001b[0mcl\u001b[0m\u001b[0;34m.\u001b[0m\u001b[0mappend\u001b[0m\u001b[0;34m(\u001b[0m\u001b[0;34m-\u001b[0m\u001b[0my\u001b[0m \u001b[0;34m*\u001b[0m \u001b[0mself\u001b[0m\u001b[0;34m.\u001b[0m\u001b[0myscale\u001b[0m\u001b[0;34m)\u001b[0m\u001b[0;34m\u001b[0m\u001b[0m\n\u001b[0;32m--> 569\u001b[0;31m             \u001b[0mself\u001b[0m\u001b[0;34m.\u001b[0m\u001b[0mcv\u001b[0m\u001b[0;34m.\u001b[0m\u001b[0mcoords\u001b[0m\u001b[0;34m(\u001b[0m\u001b[0mlineitem\u001b[0m\u001b[0;34m,\u001b[0m \u001b[0;34m*\u001b[0m\u001b[0mcl\u001b[0m\u001b[0;34m)\u001b[0m\u001b[0;34m\u001b[0m\u001b[0m\n\u001b[0m\u001b[1;32m    570\u001b[0m         \u001b[0;32mif\u001b[0m \u001b[0mfill\u001b[0m \u001b[0;32mis\u001b[0m \u001b[0;32mnot\u001b[0m \u001b[0mNone\u001b[0m\u001b[0;34m:\u001b[0m\u001b[0;34m\u001b[0m\u001b[0m\n\u001b[1;32m    571\u001b[0m             \u001b[0mself\u001b[0m\u001b[0;34m.\u001b[0m\u001b[0mcv\u001b[0m\u001b[0;34m.\u001b[0m\u001b[0mitemconfigure\u001b[0m\u001b[0;34m(\u001b[0m\u001b[0mlineitem\u001b[0m\u001b[0;34m,\u001b[0m \u001b[0mfill\u001b[0m\u001b[0;34m=\u001b[0m\u001b[0mfill\u001b[0m\u001b[0;34m)\u001b[0m\u001b[0;34m\u001b[0m\u001b[0m\n",
        "\u001b[0;32m<string>\u001b[0m in \u001b[0;36mcoords\u001b[0;34m(self, *args, **kw)\u001b[0m\n",
        "\u001b[0;32m//anaconda/python.app/Contents/lib/python2.7/lib-tk/Tkinter.pyc\u001b[0m in \u001b[0;36mcoords\u001b[0;34m(self, *args)\u001b[0m\n\u001b[1;32m   2238\u001b[0m         return map(getdouble,\n\u001b[1;32m   2239\u001b[0m                            self.tk.splitlist(\n\u001b[0;32m-> 2240\u001b[0;31m                    self.tk.call((self._w, 'coords') + args)))\n\u001b[0m\u001b[1;32m   2241\u001b[0m     \u001b[0;32mdef\u001b[0m \u001b[0m_create\u001b[0m\u001b[0;34m(\u001b[0m\u001b[0mself\u001b[0m\u001b[0;34m,\u001b[0m \u001b[0mitemType\u001b[0m\u001b[0;34m,\u001b[0m \u001b[0margs\u001b[0m\u001b[0;34m,\u001b[0m \u001b[0mkw\u001b[0m\u001b[0;34m)\u001b[0m\u001b[0;34m:\u001b[0m \u001b[0;31m# Args: (val, val, ..., cnf={})\u001b[0m\u001b[0;34m\u001b[0m\u001b[0m\n\u001b[1;32m   2242\u001b[0m         \u001b[0;34m\"\"\"Internal function.\"\"\"\u001b[0m\u001b[0;34m\u001b[0m\u001b[0m\n",
        "\u001b[0;31mTclError\u001b[0m: invalid command name \".4401343808\""
       ]
      }
     ],
     "prompt_number": 45
    },
    {
     "cell_type": "code",
     "collapsed": false,
     "input": [
      "import turtle\n",
      "def drawTheLetterC():\n",
      "    turtle.setheading(180)\n",
      "    turtle.forward(40)\n",
      "    turtle.left(90)\n",
      "    turtle.forward(45)\n",
      "    turtle.left(90)\n",
      "    turtle.forward(40)\n",
      "\n",
      "turtle.penup()\n",
      "turtle.goto(150, 150)\n",
      "turtle.pendown()\n",
      "drawTheLetterC()"
     ],
     "language": "python",
     "metadata": {},
     "outputs": [],
     "prompt_number": 2
    },
    {
     "cell_type": "code",
     "collapsed": false,
     "input": [],
     "language": "python",
     "metadata": {},
     "outputs": []
    }
   ],
   "metadata": {}
  }
 ]
}