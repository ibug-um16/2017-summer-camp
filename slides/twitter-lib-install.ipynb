{
 "metadata": {
  "name": "",
  "signature": "sha256:88e09add2bcdc5cf3e05c1f33739452c4b4c1d59dd0c14271110209e2d7b560c"
 },
 "nbformat": 3,
 "nbformat_minor": 0,
 "worksheets": [
  {
   "cells": [
    {
     "cell_type": "markdown",
     "metadata": {},
     "source": [
      "# Twitter Python library install instructions\n",
      "\n",
      "We'll use the twitter library.  Unfortunately, the library is not\n",
      "installed in the Anaconda python distribution by default.  If you \n",
      "try to import it, this is what you will see:\n",
      "\n",
      "```\n",
      "$ python\n",
      "Python 2.7.2 (default, Oct 11 2012, 20:14:37) \n",
      "[GCC 4.2.1 Compatible Apple Clang 4.0 (tags/Apple/clang-418.0.60)] on darwin\n",
      "Type \"help\", \"copyright\", \"credits\" or \"license\" for more information.\n",
      ">>> import twitter\n",
      "Traceback (most recent call last):\n",
      "  File \"<stdin>\", line 1, in <module>\n",
      "ImportError: No module named twitter\n",
      ">>> \n",
      "```\n",
      "\n",
      "The good news: the installation process is surprisingly simple when\n",
      "you use the Anaconda python distribution.\n",
      "\n",
      "**OSX:** \n",
      "Open a terminal window \n",
      "\n",
      "**Windows**\n",
      "Open the \"Anaconda Command Prompt\"\n",
      "\n",
      "Now type the following:\n",
      "```\n",
      "$ pip install twitter\n",
      "```\n",
      "\n",
      "You should *hopefully* see the following output:\n",
      "```\n",
      "Downloading/unpacking twitter\n",
      "  Downloading twitter-1.14.3-py2.py3-none-any.whl (50kB): 50kB downloaded\n",
      "Installing collected packages: twitter\n",
      "Successfully installed twitter\n",
      "Cleaning up...\n",
      "```\n",
      "\n",
      "Congrats! You've installed the twitter python library! Now when you try \n",
      "importing the twitter library in python you should't see an error.\n",
      "```\n",
      "Python 2.7.6 |Anaconda 1.9.2 (x86_64)| (default, Jan 10 2014, 11:23:15) \n",
      "[GCC 4.0.1 (Apple Inc. build 5493)] on darwin\n",
      "Type \"help\", \"copyright\", \"credits\" or \"license\" for more information.\n",
      ">>> import twitter\n",
      ">>> \n",
      "```\n"
     ]
    }
   ],
   "metadata": {}
  }
 ]
}